{
 "cells": [
  {
   "cell_type": "code",
   "execution_count": 2,
   "metadata": {},
   "outputs": [
    {
     "name": "stdout",
     "output_type": "stream",
     "text": [
      "Class Hypo--- 3.05 sec\n",
      "Class Portefeuille--- 0.00 sec\n",
      "Class FU--- 0.00 sec\n",
      "Class AX--- 0.00 sec\n",
      "Class HO--- 0.00 sec\n",
      "Class TE--- 0.00 sec\n",
      "Class VE--- 0.00 sec\n",
      "Class EP--- 0.00 sec\n",
      "Class MI--- 0.00 sec\n"
     ]
    }
   ],
   "source": [
    "from Parametres import allRuns\n",
    "from Produits import FU,AX,HO,PR,TE,VE,EP,MI\n",
    "import pandas as pd\n",
    "import time\n",
    "import os, os.path\n",
    "import matplotlib.pyplot as plt\n",
    "import numpy as np"
   ]
  },
  {
   "cell_type": "code",
   "execution_count": 3,
   "metadata": {},
   "outputs": [],
   "source": [
    "a=FU()"
   ]
  },
  {
   "cell_type": "code",
   "execution_count": 4,
   "metadata": {},
   "outputs": [],
   "source": [
    "b=a.totalPremium()"
   ]
  },
  {
   "cell_type": "markdown",
   "metadata": {},
   "source": [
    "# Titre\n",
    "## Sous-titre\n",
    "### sous-sous-titre\n",
    "#### sous-sous-sous-titre\n",
    "ici du texte\n",
    "1. a\n",
    "2. b\n",
    "    * b1\n",
    "    * b2"
   ]
  },
  {
   "cell_type": "code",
   "execution_count": null,
   "metadata": {},
   "outputs": [],
   "source": []
  },
  {
   "cell_type": "code",
   "execution_count": 5,
   "metadata": {
    "scrolled": true
   },
   "outputs": [
    {
     "data": {
      "image/png": "[encoded data removed]",
      "text/plain": [
       "<Figure size 432x288 with 1 Axes>"
      ]
     },
     "metadata": {
      "needs_background": "light"
     },
     "output_type": "display_data"
    }
   ],
   "source": [
    "%matplotlib inline\n",
    "x=np.sum(b[:,:,0],axis=0)\n",
    "y=np.arange(len(x))\n",
    "plt.plot(y,x)\n",
    "plt.show()"
   ]
  },
  {
   "cell_type": "code",
   "execution_count": 6,
   "metadata": {},
   "outputs": [
    {
     "data": {
      "text/plain": [
       "(563,)"
      ]
     },
     "execution_count": 6,
     "metadata": {},
     "output_type": "execute_result"
    }
   ],
   "source": [
    "y.shape"
   ]
  },
  {
   "cell_type": "code",
   "execution_count": 8,
   "metadata": {},
   "outputs": [
    {
     "data": {
      "text/html": [
       "<div>\n",
       "<style scoped>\n",
       "    .dataframe tbody tr th:only-of-type {\n",
       "        vertical-align: middle;\n",
       "    }\n",
       "\n",
       "    .dataframe tbody tr th {\n",
       "        vertical-align: top;\n",
       "    }\n",
       "\n",
       "    .dataframe thead th {\n",
       "        text-align: right;\n",
       "    }\n",
       "</style>\n",
       "<table border=\"1\" class=\"dataframe\">\n",
       "  <thead>\n",
       "    <tr style=\"text-align: right;\">\n",
       "      <th></th>\n",
       "      <th>Unnamed: 0</th>\n",
       "      <th>PMBBILAN</th>\n",
       "      <th>PMBMOD</th>\n",
       "      <th>PMBBR</th>\n",
       "      <th>PMBPOL</th>\n",
       "      <th>PMBPRVMAT</th>\n",
       "      <th>PMBPBEN</th>\n",
       "      <th>PMBREC</th>\n",
       "      <th>PMBRECCPL</th>\n",
       "      <th>PMBCAPIT</th>\n",
       "      <th>...</th>\n",
       "      <th>aquisitionLoadingYear2</th>\n",
       "      <th>aquisitionLoadingYear3</th>\n",
       "      <th>gestionLoading</th>\n",
       "      <th>gestionLoadingSA</th>\n",
       "      <th>fraisGestDureePrimesSA</th>\n",
       "      <th>fraisGestDureePoliceSA</th>\n",
       "      <th>fraisFract</th>\n",
       "      <th>POLPRCPL7</th>\n",
       "      <th>POLPRCPLB</th>\n",
       "      <th>tauxZill</th>\n",
       "    </tr>\n",
       "  </thead>\n",
       "  <tbody>\n",
       "    <tr>\n",
       "      <th>6</th>\n",
       "      <td>6</td>\n",
       "      <td>2018.0</td>\n",
       "      <td>9.0</td>\n",
       "      <td>11.0</td>\n",
       "      <td>6201.0</td>\n",
       "      <td>0.0</td>\n",
       "      <td>0.0</td>\n",
       "      <td>16.0</td>\n",
       "      <td>0.0</td>\n",
       "      <td>15000.0</td>\n",
       "      <td>...</td>\n",
       "      <td>0.0</td>\n",
       "      <td>0.0</td>\n",
       "      <td>NaN</td>\n",
       "      <td>NaN</td>\n",
       "      <td>0.0</td>\n",
       "      <td>0.0</td>\n",
       "      <td>1.0</td>\n",
       "      <td>NaN</td>\n",
       "      <td>NaN</td>\n",
       "      <td>0.0</td>\n",
       "    </tr>\n",
       "    <tr>\n",
       "      <th>7</th>\n",
       "      <td>7</td>\n",
       "      <td>2018.0</td>\n",
       "      <td>8.0</td>\n",
       "      <td>11.0</td>\n",
       "      <td>6401.0</td>\n",
       "      <td>0.0</td>\n",
       "      <td>0.0</td>\n",
       "      <td>10.0</td>\n",
       "      <td>0.0</td>\n",
       "      <td>7500.0</td>\n",
       "      <td>...</td>\n",
       "      <td>0.0</td>\n",
       "      <td>0.0</td>\n",
       "      <td>NaN</td>\n",
       "      <td>NaN</td>\n",
       "      <td>0.0</td>\n",
       "      <td>0.0</td>\n",
       "      <td>1.0</td>\n",
       "      <td>NaN</td>\n",
       "      <td>NaN</td>\n",
       "      <td>0.0</td>\n",
       "    </tr>\n",
       "    <tr>\n",
       "      <th>8</th>\n",
       "      <td>8</td>\n",
       "      <td>2018.0</td>\n",
       "      <td>9.0</td>\n",
       "      <td>11.0</td>\n",
       "      <td>202.0</td>\n",
       "      <td>0.0</td>\n",
       "      <td>0.0</td>\n",
       "      <td>16.0</td>\n",
       "      <td>0.0</td>\n",
       "      <td>15000.0</td>\n",
       "      <td>...</td>\n",
       "      <td>0.0</td>\n",
       "      <td>0.0</td>\n",
       "      <td>NaN</td>\n",
       "      <td>NaN</td>\n",
       "      <td>0.0</td>\n",
       "      <td>0.0</td>\n",
       "      <td>1.0</td>\n",
       "      <td>NaN</td>\n",
       "      <td>NaN</td>\n",
       "      <td>0.0</td>\n",
       "    </tr>\n",
       "    <tr>\n",
       "      <th>12</th>\n",
       "      <td>12</td>\n",
       "      <td>2018.0</td>\n",
       "      <td>9.0</td>\n",
       "      <td>11.0</td>\n",
       "      <td>2502.0</td>\n",
       "      <td>0.0</td>\n",
       "      <td>0.0</td>\n",
       "      <td>32.0</td>\n",
       "      <td>0.0</td>\n",
       "      <td>15000.0</td>\n",
       "      <td>...</td>\n",
       "      <td>0.0</td>\n",
       "      <td>0.0</td>\n",
       "      <td>NaN</td>\n",
       "      <td>NaN</td>\n",
       "      <td>0.0</td>\n",
       "      <td>0.0</td>\n",
       "      <td>1.0</td>\n",
       "      <td>NaN</td>\n",
       "      <td>NaN</td>\n",
       "      <td>0.0</td>\n",
       "    </tr>\n",
       "    <tr>\n",
       "      <th>18</th>\n",
       "      <td>18</td>\n",
       "      <td>2018.0</td>\n",
       "      <td>8.0</td>\n",
       "      <td>11.0</td>\n",
       "      <td>19501.0</td>\n",
       "      <td>0.0</td>\n",
       "      <td>0.0</td>\n",
       "      <td>30.0</td>\n",
       "      <td>0.0</td>\n",
       "      <td>7500.0</td>\n",
       "      <td>...</td>\n",
       "      <td>0.0</td>\n",
       "      <td>0.0</td>\n",
       "      <td>NaN</td>\n",
       "      <td>NaN</td>\n",
       "      <td>0.0</td>\n",
       "      <td>0.0</td>\n",
       "      <td>1.0</td>\n",
       "      <td>NaN</td>\n",
       "      <td>NaN</td>\n",
       "      <td>0.0</td>\n",
       "    </tr>\n",
       "  </tbody>\n",
       "</table>\n",
       "<p>5 rows × 113 columns</p>\n",
       "</div>"
      ],
      "text/plain": [
       "    Unnamed: 0  PMBBILAN  PMBMOD  PMBBR   PMBPOL  PMBPRVMAT  PMBPBEN  PMBREC  \\\n",
       "6            6    2018.0     9.0   11.0   6201.0        0.0      0.0    16.0   \n",
       "7            7    2018.0     8.0   11.0   6401.0        0.0      0.0    10.0   \n",
       "8            8    2018.0     9.0   11.0    202.0        0.0      0.0    16.0   \n",
       "12          12    2018.0     9.0   11.0   2502.0        0.0      0.0    32.0   \n",
       "18          18    2018.0     8.0   11.0  19501.0        0.0      0.0    30.0   \n",
       "\n",
       "    PMBRECCPL  PMBCAPIT  ...  aquisitionLoadingYear2  aquisitionLoadingYear3  \\\n",
       "6         0.0   15000.0  ...                     0.0                     0.0   \n",
       "7         0.0    7500.0  ...                     0.0                     0.0   \n",
       "8         0.0   15000.0  ...                     0.0                     0.0   \n",
       "12        0.0   15000.0  ...                     0.0                     0.0   \n",
       "18        0.0    7500.0  ...                     0.0                     0.0   \n",
       "\n",
       "   gestionLoading  gestionLoadingSA  fraisGestDureePrimesSA  \\\n",
       "6             NaN               NaN                     0.0   \n",
       "7             NaN               NaN                     0.0   \n",
       "8             NaN               NaN                     0.0   \n",
       "12            NaN               NaN                     0.0   \n",
       "18            NaN               NaN                     0.0   \n",
       "\n",
       "   fraisGestDureePoliceSA  fraisFract  POLPRCPL7  POLPRCPLB  tauxZill  \n",
       "6                     0.0         1.0        NaN        NaN       0.0  \n",
       "7                     0.0         1.0        NaN        NaN       0.0  \n",
       "8                     0.0         1.0        NaN        NaN       0.0  \n",
       "12                    0.0         1.0        NaN        NaN       0.0  \n",
       "18                    0.0         1.0        NaN        NaN       0.0  \n",
       "\n",
       "[5 rows x 113 columns]"
      ]
     },
     "execution_count": 8,
     "metadata": {},
     "output_type": "execute_result"
    }
   ],
   "source": [
    "a.p.head()"
   ]
  },
  {
   "cell_type": "code",
   "execution_count": null,
   "metadata": {},
   "outputs": [],
   "source": []
  }
 ],
 "metadata": {
  "kernelspec": {
   "display_name": "Python 3",
   "language": "python",
   "name": "python3"
  },
  "language_info": {
   "codemirror_mode": {
    "name": "ipython",
    "version": 3
   },
   "file_extension": ".py",
   "mimetype": "text/x-python",
   "name": "python",
   "nbconvert_exporter": "python",
   "pygments_lexer": "ipython3",
   "version": "3.7.7"
  }
 },
 "nbformat": 4,
 "nbformat_minor": 4
}
